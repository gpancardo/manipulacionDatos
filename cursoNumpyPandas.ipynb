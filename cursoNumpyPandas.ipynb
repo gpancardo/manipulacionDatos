{
  "cells": [
    {
      "cell_type": "markdown",
      "metadata": {
        "id": "view-in-github",
        "colab_type": "text"
      },
      "source": [
        "<a href=\"https://colab.research.google.com/github/gpancardo/manipulacionDatos/blob/main/cursoNumpyPandas.ipynb\" target=\"_parent\"><img src=\"https://colab.research.google.com/assets/colab-badge.svg\" alt=\"Open In Colab\"/></a>"
      ]
    },
    {
      "cell_type": "markdown",
      "source": [],
      "metadata": {
        "id": "o8DezQ4-fIBz"
      }
    },
    {
      "cell_type": "markdown",
      "source": [
        "# Curso Numpy y Pandas\n",
        "![image.png](https://external-content.duckduckgo.com/iu/?u=https%3A%2F%2Fmiro.medium.com%2Fmax%2F2400%2F0*yoWcWha-rTtORck4.png&f=1&nofb=1&ipt=3b46a0b6ae9f1dc26155a6d83b50c905b6264c5fe4d515a0733344f2f632b00c&ipo=images)"
      ],
      "metadata": {
        "id": "H_QapZ-BfJmb"
      }
    },
    {
      "cell_type": "markdown",
      "source": [
        "## Numpy"
      ],
      "metadata": {
        "id": "PWiNAa0zf4Qq"
      }
    },
    {
      "cell_type": "markdown",
      "source": [
        "###Arrays y Matrices"
      ],
      "metadata": {
        "id": "UJxeFOQOgChS"
      }
    },
    {
      "cell_type": "markdown",
      "metadata": {
        "id": "JeblMk2FLEVU"
      },
      "source": [
        "Vamos a crear una lista y convertirla en un array de numpy"
      ]
    },
    {
      "cell_type": "code",
      "execution_count": null,
      "metadata": {
        "colab": {
          "base_uri": "https://localhost:8080/"
        },
        "id": "th_mdrw3dxYv",
        "outputId": "ab5e5f8f-7c27-4627-d3e4-45e36fee0a0e"
      },
      "outputs": [
        {
          "data": {
            "text/plain": [
              "array([1, 2, 3, 4, 5, 6, 7, 8, 9, 0])"
            ]
          },
          "execution_count": 1,
          "metadata": {},
          "output_type": "execute_result"
        }
      ],
      "source": [
        "import numpy as np\n",
        "lista=[1,2,3,4,5,6,7,8,9,0]\n",
        "lista=np.array(lista)"
      ]
    },
    {
      "cell_type": "markdown",
      "metadata": {
        "id": "2NwYPtoMLKer"
      },
      "source": [
        "Podemos crear matrices de varias dimensiones con numpy"
      ]
    },
    {
      "cell_type": "code",
      "execution_count": null,
      "metadata": {
        "colab": {
          "base_uri": "https://localhost:8080/"
        },
        "id": "nYa6TyYRLR2q",
        "outputId": "cd0c6200-b1d0-4d1b-abcb-e42e5ea9358d"
      },
      "outputs": [
        {
          "name": "stdout",
          "output_type": "stream",
          "text": [
            "[[1 2 3]\n",
            " [4 5 6]\n",
            " [7 8 9]]\n"
          ]
        }
      ],
      "source": [
        "matriz=[[1,2,3],[4,5,6],[7,8,9]]\n",
        "matriz=np.array(matriz)\n",
        "print(matriz)"
      ]
    },
    {
      "cell_type": "markdown",
      "metadata": {
        "id": "C0-cG9RALt-p"
      },
      "source": [
        "Ahora vamos a hacer un indexado para poder trabajar con cualquier elemento. Vamos a tomar uno de la lista y otro de la matriz"
      ]
    },
    {
      "cell_type": "code",
      "execution_count": null,
      "metadata": {
        "colab": {
          "base_uri": "https://localhost:8080/"
        },
        "id": "rNBpjZ5dLyhi",
        "outputId": "5b1c21e5-5528-4453-ecf1-b4c9b4e5c4c3"
      },
      "outputs": [
        {
          "name": "stdout",
          "output_type": "stream",
          "text": [
            "2\n",
            "1\n"
          ]
        }
      ],
      "source": [
        "print(lista[1])\n",
        "print(matriz[0,0])"
      ]
    },
    {
      "cell_type": "markdown",
      "source": [
        "###Slicing"
      ],
      "metadata": {
        "id": "ET8JbX7XgIQa"
      }
    },
    {
      "cell_type": "markdown",
      "metadata": {
        "id": "XW-Zd7C6LyD8"
      },
      "source": [
        "Vamos a hacer slicing, esto es para pedir un rango de valores"
      ]
    },
    {
      "cell_type": "code",
      "execution_count": null,
      "metadata": {
        "colab": {
          "base_uri": "https://localhost:8080/"
        },
        "id": "gu9DF96-McDR",
        "outputId": "979b3a05-310f-45e3-909c-a81090b49d45"
      },
      "outputs": [
        {
          "name": "stdout",
          "output_type": "stream",
          "text": [
            "[1, 2, 3, 4, 5]\n",
            "[[4 5 6]\n",
            " [7 8 9]]\n"
          ]
        }
      ],
      "source": [
        "print(lista[0:5])\n",
        "print(matriz[1:,0:])"
      ]
    },
    {
      "cell_type": "markdown",
      "metadata": {
        "id": "evcn7tORMbsC"
      },
      "source": [
        "Se pueden pedir rangos sin el inicio o fin para tener los mayores a X o menores a X"
      ]
    },
    {
      "cell_type": "code",
      "execution_count": null,
      "metadata": {
        "colab": {
          "base_uri": "https://localhost:8080/"
        },
        "id": "eha1Oj4lMsJi",
        "outputId": "6385ed54-d924-484f-ff3a-d03fe57d5f31"
      },
      "outputs": [
        {
          "name": "stdout",
          "output_type": "stream",
          "text": [
            "[[5 6]\n",
            " [8 9]]\n",
            "[3, 4, 5, 6, 7, 8, 9, 0]\n",
            "[1, 2, 3]\n"
          ]
        }
      ],
      "source": [
        "print(matriz[1,1:])\n",
        "print(lista[2:])\n",
        "\n",
        "print(lista[:3])"
      ]
    },
    {
      "cell_type": "markdown",
      "metadata": {
        "id": "M_ei8WyXNUMr"
      },
      "source": [
        "También se puede pedir que sean de dos en dos, tres en tres, etc"
      ]
    },
    {
      "cell_type": "code",
      "execution_count": null,
      "metadata": {
        "colab": {
          "base_uri": "https://localhost:8080/"
        },
        "id": "GSd75ZVgNZOk",
        "outputId": "fe60b91f-76b6-4e14-bcae-ddc00c0b689c"
      },
      "outputs": [
        {
          "name": "stdout",
          "output_type": "stream",
          "text": [
            "[1, 3, 5, 7, 9]\n"
          ]
        }
      ],
      "source": [
        "print(lista[::2])"
      ]
    },
    {
      "cell_type": "markdown",
      "source": [
        "###Cambiar tipo de dato de matrices"
      ],
      "metadata": {
        "id": "vYI5QAJBgT7q"
      }
    },
    {
      "cell_type": "markdown",
      "metadata": {
        "id": "-H5WyfeHPuM7"
      },
      "source": [
        "Se pueden cambiar de tipo de dato los elementos del array"
      ]
    },
    {
      "cell_type": "code",
      "execution_count": null,
      "metadata": {
        "colab": {
          "base_uri": "https://localhost:8080/"
        },
        "id": "C1w8YmvQQhMK",
        "outputId": "9d453335-055d-4aa2-ce32-46adac7cd0d9"
      },
      "outputs": [
        {
          "name": "stdout",
          "output_type": "stream",
          "text": [
            "[1. 2. 3. 4. 5. 6. 7. 8. 9. 0.]\n",
            "[b'1.0' b'2.0' b'3.0' b'4.0' b'5.0' b'6.0' b'7.0' b'8.0' b'9.0' b'0.0']\n"
          ]
        }
      ],
      "source": [
        "nuevaLista=np.array(lista)\n",
        "nuevaLista=nuevaLista.astype(np.float64)\n",
        "print(nuevaLista)\n",
        "nuevaLista=nuevaLista.astype(np.string_)\n",
        "print(nuevaLista)"
      ]
    },
    {
      "cell_type": "markdown",
      "source": [
        "###Generar matrices con instrucciones"
      ],
      "metadata": {
        "id": "TSxoH3Z-gZWa"
      }
    },
    {
      "cell_type": "markdown",
      "metadata": {
        "id": "1pY64cJYE4HF"
      },
      "source": [
        "Podemos crear arrays con rangos de valores con arrange\n"
      ]
    },
    {
      "cell_type": "code",
      "execution_count": null,
      "metadata": {
        "colab": {
          "base_uri": "https://localhost:8080/"
        },
        "id": "0Yq93TjsHd7e",
        "outputId": "f3f0ebc3-d7e6-4301-b1db-0973784e25d2"
      },
      "outputs": [
        {
          "data": {
            "text/plain": [
              "array([0, 1, 2, 3, 4, 5, 6, 7, 8, 9])"
            ]
          },
          "execution_count": 9,
          "metadata": {},
          "output_type": "execute_result"
        }
      ],
      "source": [
        "np.arange(0,10)"
      ]
    },
    {
      "cell_type": "markdown",
      "metadata": {
        "id": "h8z6eYzOLyIn"
      },
      "source": [
        "O arreglos llenos de ceros con zeros"
      ]
    },
    {
      "cell_type": "code",
      "execution_count": null,
      "metadata": {
        "colab": {
          "base_uri": "https://localhost:8080/"
        },
        "id": "OKjb4ytDL1pH",
        "outputId": "903339fc-f0c6-459b-834d-3222deaeccf7"
      },
      "outputs": [
        {
          "name": "stdout",
          "output_type": "stream",
          "text": [
            "[0 0 0 0]\n"
          ]
        }
      ],
      "source": [
        "ceros=np.zeros(4)\n",
        "ceros=ceros.astype(np.int16)\n",
        "print(ceros)"
      ]
    },
    {
      "cell_type": "markdown",
      "metadata": {
        "id": "Vq8fPu2IL1M_"
      },
      "source": [
        "Se puede hacer lo mismo con una matriz. Esto se usa para definir la base de una que sea llenada a futuro."
      ]
    },
    {
      "cell_type": "code",
      "execution_count": null,
      "metadata": {
        "colab": {
          "base_uri": "https://localhost:8080/"
        },
        "id": "fnGwQPz2MvGP",
        "outputId": "75bd7635-6955-4a0b-ccd2-6c09ead2eb22"
      },
      "outputs": [
        {
          "name": "stdout",
          "output_type": "stream",
          "text": [
            "[[0. 0. 0. 0. 0.]\n",
            " [0. 0. 0. 0. 0.]\n",
            " [0. 0. 0. 0. 0.]\n",
            " [0. 0. 0. 0. 0.]\n",
            " [0. 0. 0. 0. 0.]]\n"
          ]
        }
      ],
      "source": [
        "matrixCeros=np.zeros((5,5))\n",
        "print(matrixCeros)"
      ]
    },
    {
      "cell_type": "markdown",
      "metadata": {
        "id": "ww3ij06CNDXg"
      },
      "source": [
        "Hay una función muy similar, pero que llena la matriz con unos"
      ]
    },
    {
      "cell_type": "code",
      "execution_count": null,
      "metadata": {
        "colab": {
          "base_uri": "https://localhost:8080/"
        },
        "id": "2thfJoz0NIlS",
        "outputId": "85ccace1-de7c-4c47-95d8-3092466c67a6"
      },
      "outputs": [
        {
          "data": {
            "text/plain": [
              "array([[1., 1., 1.],\n",
              "       [1., 1., 1.],\n",
              "       [1., 1., 1.]])"
            ]
          },
          "execution_count": 25,
          "metadata": {},
          "output_type": "execute_result"
        }
      ],
      "source": [
        "np.ones((3,3))"
      ]
    },
    {
      "cell_type": "markdown",
      "metadata": {
        "id": "k3Sob5VGNMH3"
      },
      "source": [
        "Se puede crear un espacio lineal con linspace. Así generamos un número C de cantidades entre A y B en orden."
      ]
    },
    {
      "cell_type": "code",
      "execution_count": null,
      "metadata": {
        "colab": {
          "base_uri": "https://localhost:8080/"
        },
        "id": "w_NMqj6DNPg2",
        "outputId": "19ed71cf-1368-47dd-a68d-7eec768ddc69"
      },
      "outputs": [
        {
          "data": {
            "text/plain": [
              "array([ 0.        ,  0.18518519,  0.37037037,  0.55555556,  0.74074074,\n",
              "        0.92592593,  1.11111111,  1.2962963 ,  1.48148148,  1.66666667,\n",
              "        1.85185185,  2.03703704,  2.22222222,  2.40740741,  2.59259259,\n",
              "        2.77777778,  2.96296296,  3.14814815,  3.33333333,  3.51851852,\n",
              "        3.7037037 ,  3.88888889,  4.07407407,  4.25925926,  4.44444444,\n",
              "        4.62962963,  4.81481481,  5.        ,  5.18518519,  5.37037037,\n",
              "        5.55555556,  5.74074074,  5.92592593,  6.11111111,  6.2962963 ,\n",
              "        6.48148148,  6.66666667,  6.85185185,  7.03703704,  7.22222222,\n",
              "        7.40740741,  7.59259259,  7.77777778,  7.96296296,  8.14814815,\n",
              "        8.33333333,  8.51851852,  8.7037037 ,  8.88888889,  9.07407407,\n",
              "        9.25925926,  9.44444444,  9.62962963,  9.81481481, 10.        ])"
            ]
          },
          "execution_count": 27,
          "metadata": {},
          "output_type": "execute_result"
        }
      ],
      "source": [
        "np.linspace(0,10,55)"
      ]
    },
    {
      "cell_type": "markdown",
      "metadata": {
        "id": "W_Qzf9SNNicY"
      },
      "source": [
        "La función eye crea matrices diagonales"
      ]
    },
    {
      "cell_type": "code",
      "execution_count": null,
      "metadata": {
        "colab": {
          "background_save": true
        },
        "id": "8CsHX8ruN2yP",
        "outputId": "3df7ef9f-fc31-43c3-9f4a-f639aede99e4"
      },
      "outputs": [
        {
          "data": {
            "text/plain": [
              "array([[1., 0., 0., 0., 0.],\n",
              "       [0., 1., 0., 0., 0.],\n",
              "       [0., 0., 1., 0., 0.],\n",
              "       [0., 0., 0., 1., 0.],\n",
              "       [0., 0., 0., 0., 1.]])"
            ]
          },
          "execution_count": 28,
          "metadata": {},
          "output_type": "execute_result"
        }
      ],
      "source": [
        "np.eye(5)"
      ]
    },
    {
      "cell_type": "markdown",
      "source": [
        "###Funciones básicas en Numpy"
      ],
      "metadata": {
        "id": "9TZ86HwygoJS"
      }
    },
    {
      "cell_type": "markdown",
      "source": [
        "Las funciones max y min sirven para encontrar el elemento mayor o menor de una matriz. Se le puede dar un argumento para cambiar el eje en el que se mide mayor o menor (por ejemplo, cero nos da el mayor de cada columna)."
      ],
      "metadata": {
        "id": "2MryvfFBg8uC"
      }
    },
    {
      "cell_type": "code",
      "source": [
        "import numpy as np\n",
        "arregloPrueba=[[1,2,3],[4,5,6],[7,8,9]]\n",
        "arregloPrueba=np.array(arregloPrueba)\n",
        "print(arregloPrueba.max())\n",
        "print(arregloPrueba.min())\n",
        "print(arregloPrueba.max(0))"
      ],
      "metadata": {
        "colab": {
          "base_uri": "https://localhost:8080/"
        },
        "id": "trNdlAV4hCt6",
        "outputId": "ac5a52e7-d724-42cd-d797-cd076494dbc8"
      },
      "execution_count": null,
      "outputs": [
        {
          "output_type": "stream",
          "name": "stdout",
          "text": [
            "9\n",
            "1\n",
            "[7 8 9]\n"
          ]
        }
      ]
    },
    {
      "cell_type": "markdown",
      "source": [
        "argmax y argmin nos dan el índice de esos elementos"
      ],
      "metadata": {
        "id": "oeK2xs7shE5z"
      }
    },
    {
      "cell_type": "code",
      "source": [
        "print(arregloPrueba.max(0))\n",
        "print(arregloPrueba.min(0))"
      ],
      "metadata": {
        "colab": {
          "base_uri": "https://localhost:8080/"
        },
        "id": "8zXtoDFbhdxV",
        "outputId": "40edeace-cf36-4b65-d1d2-56fd5bd43d2f"
      },
      "execution_count": null,
      "outputs": [
        {
          "output_type": "stream",
          "name": "stdout",
          "text": [
            "[7 8 9]\n",
            "[1 2 3]\n"
          ]
        }
      ]
    },
    {
      "cell_type": "markdown",
      "source": [
        "ptp es Peak to Peak, habla del medio entre los puntos menor y mayor del array"
      ],
      "metadata": {
        "id": "JDJmSoYNdLfB"
      }
    },
    {
      "cell_type": "code",
      "source": [
        "print(arregloPrueba.ptp())"
      ],
      "metadata": {
        "colab": {
          "base_uri": "https://localhost:8080/"
        },
        "id": "27iPmZ18dVuJ",
        "outputId": "f13fed99-6e86-43c8-a143-30a2606b900c"
      },
      "execution_count": null,
      "outputs": [
        {
          "output_type": "stream",
          "name": "stdout",
          "text": [
            "9\n",
            "1\n",
            "8\n"
          ]
        }
      ]
    },
    {
      "cell_type": "markdown",
      "source": [
        "Percentile nos da el equivalente al porcentaje que indiquemos dentro del arreglo."
      ],
      "metadata": {
        "id": "20cbE9Rei4sD"
      }
    },
    {
      "cell_type": "code",
      "source": [
        "import numpy as np\n",
        "arregloPrueba=[[1,2,3],[4,5,6],[7,8,9]]\n",
        "arregloPrueba=np.array(arregloPrueba)\n",
        "print(np.percentile(arregloPrueba,50))\n",
        "print(np.percentile(arregloPrueba,100))"
      ],
      "metadata": {
        "colab": {
          "base_uri": "https://localhost:8080/"
        },
        "id": "0-09dVmvjE_s",
        "outputId": "7da4f1b3-9f2d-429d-b15a-44784c46121f"
      },
      "execution_count": null,
      "outputs": [
        {
          "output_type": "stream",
          "name": "stdout",
          "text": [
            "5.0\n",
            "9.0\n"
          ]
        }
      ]
    },
    {
      "cell_type": "markdown",
      "source": [
        "sort sirve para ordenar de mayor a menor los elementos"
      ],
      "metadata": {
        "id": "7vPyFaq9kHDV"
      }
    },
    {
      "cell_type": "markdown",
      "source": [
        "median es igual al percentile 50. Es la mediana de los elementos del arreglo"
      ],
      "metadata": {
        "id": "ELUY1ODIkaTF"
      }
    },
    {
      "cell_type": "code",
      "source": [
        "np.median(arregloPrueba)"
      ],
      "metadata": {
        "colab": {
          "base_uri": "https://localhost:8080/"
        },
        "id": "cwUBospmkoY9",
        "outputId": "cd5bd5d7-805a-4681-ed32-c01423e88a07"
      },
      "execution_count": null,
      "outputs": [
        {
          "output_type": "execute_result",
          "data": {
            "text/plain": [
              "5.0"
            ]
          },
          "metadata": {},
          "execution_count": 10
        }
      ]
    },
    {
      "cell_type": "markdown",
      "source": [
        "std es la desviación estandar de los elementos"
      ],
      "metadata": {
        "id": "HjReZfhSkwYM"
      }
    },
    {
      "cell_type": "code",
      "source": [
        "np.std(arregloPrueba)"
      ],
      "metadata": {
        "colab": {
          "base_uri": "https://localhost:8080/"
        },
        "id": "kzC2r21rk1Qs",
        "outputId": "ba4f5d49-86e8-4062-bf3f-df6be9d279b5"
      },
      "execution_count": null,
      "outputs": [
        {
          "output_type": "execute_result",
          "data": {
            "text/plain": [
              "2.581988897471611"
            ]
          },
          "metadata": {},
          "execution_count": 11
        }
      ]
    },
    {
      "cell_type": "markdown",
      "source": [
        "var es la varianza"
      ],
      "metadata": {
        "id": "R-EwzXVTk4p9"
      }
    },
    {
      "cell_type": "code",
      "source": [
        "print(np.std(arregloPrueba)**2)\n",
        "print(np.var(arregloPrueba))"
      ],
      "metadata": {
        "colab": {
          "base_uri": "https://localhost:8080/"
        },
        "id": "OYCwnlHFk7Jk",
        "outputId": "640cac46-1ba7-4426-a29a-76b01698a970"
      },
      "execution_count": null,
      "outputs": [
        {
          "output_type": "stream",
          "name": "stdout",
          "text": [
            "6.666666666666666\n",
            "6.666666666666667\n"
          ]
        }
      ]
    },
    {
      "cell_type": "markdown",
      "source": [
        "mean es la media"
      ],
      "metadata": {
        "id": "Dm5w96oklf3l"
      }
    },
    {
      "cell_type": "code",
      "source": [
        "np.mean(arregloPrueba)"
      ],
      "metadata": {
        "colab": {
          "base_uri": "https://localhost:8080/"
        },
        "id": "mnxRuTmlllhs",
        "outputId": "e5c98dd1-b3bf-429c-9ccd-b2514250dc6b"
      },
      "execution_count": null,
      "outputs": [
        {
          "output_type": "execute_result",
          "data": {
            "text/plain": [
              "5.0"
            ]
          },
          "metadata": {},
          "execution_count": 14
        }
      ]
    },
    {
      "cell_type": "markdown",
      "source": [
        "concatenate concatena elementos por un eje"
      ],
      "metadata": {
        "id": "FUysYSc_lqrs"
      }
    },
    {
      "cell_type": "code",
      "source": [
        "a=[[1,2],[3,4]]\n",
        "b=[[5,6],[7,8]]\n",
        "print(np.concatenate((a,b),axis=0))\n",
        "print(np.concatenate((a,b),axis=1))"
      ],
      "metadata": {
        "colab": {
          "base_uri": "https://localhost:8080/"
        },
        "id": "e_bVy4Kkl2yM",
        "outputId": "9123b6bc-b5b3-4cae-b18f-298206ea4cb9"
      },
      "execution_count": null,
      "outputs": [
        {
          "output_type": "stream",
          "name": "stdout",
          "text": [
            "[[1 2]\n",
            " [3 4]\n",
            " [5 6]\n",
            " [7 8]]\n",
            "[[1 2 5 6]\n",
            " [3 4 7 8]]\n"
          ]
        }
      ]
    },
    {
      "cell_type": "markdown",
      "source": [
        "ndim nos da las dimensiones de una matriz"
      ],
      "metadata": {
        "id": "9CIUY-WLmK-_"
      }
    },
    {
      "cell_type": "code",
      "source": [
        "a=np.array(a)\n",
        "a.ndim"
      ],
      "metadata": {
        "colab": {
          "base_uri": "https://localhost:8080/"
        },
        "id": "9mLv4qYOmOB1",
        "outputId": "83ac94ca-d348-4851-dc37-87c301bbd3b4"
      },
      "execution_count": null,
      "outputs": [
        {
          "output_type": "execute_result",
          "data": {
            "text/plain": [
              "2"
            ]
          },
          "metadata": {},
          "execution_count": 17
        }
      ]
    },
    {
      "cell_type": "markdown",
      "source": [
        "si se da a un argumento un .T se transpone la matriz"
      ],
      "metadata": {
        "id": "5bnvO5KHmuet"
      }
    },
    {
      "cell_type": "code",
      "source": [
        "a=np.array(a)\n",
        "b=np.array(b)\n",
        "print(a)\n",
        "print(a.T)"
      ],
      "metadata": {
        "colab": {
          "base_uri": "https://localhost:8080/"
        },
        "id": "I6-cx_1Am1y-",
        "outputId": "dd145fb9-39ef-4757-f73c-117f7e8b2e96"
      },
      "execution_count": null,
      "outputs": [
        {
          "output_type": "stream",
          "name": "stdout",
          "text": [
            "[[1 2]\n",
            " [3 4]]\n",
            "[[1 3]\n",
            " [2 4]]\n"
          ]
        }
      ]
    }
  ],
  "metadata": {
    "colab": {
      "collapsed_sections": [
        "UJxeFOQOgChS",
        "ET8JbX7XgIQa",
        "vYI5QAJBgT7q",
        "TSxoH3Z-gZWa"
      ],
      "provenance": [],
      "toc_visible": true,
      "authorship_tag": "ABX9TyMQcO3G3toGOPERKr1LV309",
      "include_colab_link": true
    },
    "kernelspec": {
      "display_name": "Python 3",
      "name": "python3"
    },
    "language_info": {
      "name": "python"
    }
  },
  "nbformat": 4,
  "nbformat_minor": 0
}